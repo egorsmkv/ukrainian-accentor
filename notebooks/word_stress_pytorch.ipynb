{
 "cells": [
  {
   "cell_type": "code",
   "execution_count": 1,
   "metadata": {},
   "outputs": [],
   "source": [
    "import os\n",
    "import time\n",
    "import glob\n",
    "import numba\n",
    "import random\n",
    "import itertools\n",
    "import torch\n",
    "import torch.nn as nn\n",
    "import matplotlib.pyplot as plt\n",
    "\n",
    "import numpy as np\n",
    "import pandas as pd\n",
    "\n",
    "from tqdm import tqdm\n",
    "from sklearn.model_selection import train_test_split\n",
    "from torch.nn.utils.rnn import pad_sequence\n",
    "from torch.utils.data import Dataset, DataLoader"
   ]
  },
  {
   "cell_type": "code",
   "execution_count": 3,
   "metadata": {},
   "outputs": [
    {
     "data": {
      "text/plain": [
       "'1.11.0+cu113'"
      ]
     },
     "execution_count": 3,
     "metadata": {},
     "output_type": "execute_result"
    }
   ],
   "source": [
    "torch.__version__"
   ]
  },
  {
   "cell_type": "code",
   "execution_count": 4,
   "metadata": {},
   "outputs": [],
   "source": [
    "DATA_PATH = '../model/'\n",
    "RANDOM_SEED = 42"
   ]
  },
  {
   "cell_type": "code",
   "execution_count": 5,
   "metadata": {},
   "outputs": [],
   "source": [
    "def seed_everything(seed=0):\n",
    "    random.seed(seed)\n",
    "    os.environ['PYTHONHASHSEED'] = str(seed)\n",
    "    np.random.seed(seed)\n",
    "    torch.manual_seed(seed)\n",
    "    torch.cuda.manual_seed(seed)\n",
    "    torch.backends.cudnn.deterministic = True"
   ]
  },
  {
   "cell_type": "code",
   "execution_count": 6,
   "metadata": {},
   "outputs": [],
   "source": [
    "seed_everything(RANDOM_SEED)"
   ]
  },
  {
   "cell_type": "code",
   "execution_count": 7,
   "metadata": {},
   "outputs": [],
   "source": [
    "# @numba.jit\n",
    "def stress_pos(x):\n",
    "    try:\n",
    "        res = np.zeros(len(x)-1)\n",
    "        stress_idx = x.find('+')\n",
    "        res[stress_idx] = 1\n",
    "        return res\n",
    "    except IndexError:\n",
    "        return np.NaN"
   ]
  },
  {
   "cell_type": "code",
   "execution_count": 8,
   "metadata": {},
   "outputs": [],
   "source": [
    "def replace_accents(x):\n",
    "    chars = list(x.encode('utf-8').replace(b'\\xcc\\x81', b'+').decode('utf-8'))\n",
    "\n",
    "    final_chars = []\n",
    "    for i, c in enumerate(chars):\n",
    "        if c == '+':\n",
    "            try:\n",
    "                tmp = final_chars[i - 1]\n",
    "\n",
    "                final_chars.pop()\n",
    "                final_chars.append('+')\n",
    "                final_chars.append(tmp)\n",
    "            except IndexError:\n",
    "                final_chars.append(c)\n",
    "        else:\n",
    "            final_chars.append(c)\n",
    "\n",
    "    return ''.join(final_chars)"
   ]
  },
  {
   "cell_type": "code",
   "execution_count": 9,
   "metadata": {},
   "outputs": [
    {
     "name": "stderr",
     "output_type": "stream",
     "text": [
      "100%|██████████| 1/1 [00:09<00:00,  9.58s/it]\n"
     ]
    }
   ],
   "source": [
    "data = []\n",
    "\n",
    "for file in tqdm(glob.glob(DATA_PATH + \"*.txt\")):\n",
    "    with open(file) as fil:\n",
    "        lines = fil.readlines()\n",
    "        for line in lines:\n",
    "            try:\n",
    "                word2 = line.strip()\n",
    "                word2 = replace_accents(word2)\n",
    "                word1 = word2.replace(\"+\",\"\")\n",
    "                word1, word2 = word1.strip().replace('i', 'і'), word2.strip().replace('i', 'і')\n",
    "                data.append((word1, word2))\n",
    "            except ValueError:\n",
    "                continue"
   ]
  },
  {
   "cell_type": "code",
   "execution_count": 10,
   "metadata": {},
   "outputs": [],
   "source": [
    "data = pd.DataFrame(data)\n",
    "data.columns = ['word', 'word_with_stress']"
   ]
  },
  {
   "cell_type": "code",
   "execution_count": 11,
   "metadata": {},
   "outputs": [
    {
     "name": "stderr",
     "output_type": "stream",
     "text": [
      "100%|██████████| 53/53 [00:54<00:00,  1.03s/it]\n"
     ]
    }
   ],
   "source": [
    "exclude_list = [\n",
    "    '\\t', '$', '%', '-', '\\\\', '`', 'a', 'b', 'c', 'd', 'e', 'f', 'g', \n",
    "    'h', 'i', 'j', 'k', 'l', 'm', 'n', 'o', 'p', 'q', 'r', 's', 't', 'u', \n",
    "    'v', 'w', 'x', 'y', 'z', '~', '\\xa0', '\\xad', '·', 'ђ', 'ј', 'љ', 'њ', 'ћ', \n",
    "    'ў', 'џ', '–', '‘', '’', '“', '”', '•', '№',\n",
    "    'ъ', 'ы', 'э'\n",
    "]\n",
    "\n",
    "for item in tqdm(exclude_list):\n",
    "    data = data.loc[~data.word.str.contains(item, regex=False)]"
   ]
  },
  {
   "cell_type": "code",
   "execution_count": 12,
   "metadata": {},
   "outputs": [
    {
     "name": "stdout",
     "output_type": "stream",
     "text": [
      "CPU times: user 6.42 s, sys: 492 ms, total: 6.91 s\n",
      "Wall time: 6.89 s\n"
     ]
    }
   ],
   "source": [
    "%%time\n",
    "\n",
    "data['word_list'] = data.word.map(list)"
   ]
  },
  {
   "cell_type": "code",
   "execution_count": 13,
   "metadata": {},
   "outputs": [
    {
     "name": "stdout",
     "output_type": "stream",
     "text": [
      "CPU times: user 3.06 s, sys: 63.6 ms, total: 3.13 s\n",
      "Wall time: 3.13 s\n"
     ]
    }
   ],
   "source": [
    "%%time\n",
    "\n",
    "data['word_stress_pos'] = data.word_with_stress.map(stress_pos)"
   ]
  },
  {
   "cell_type": "code",
   "execution_count": 14,
   "metadata": {},
   "outputs": [],
   "source": [
    "data = data.loc[data.word_stress_pos.notna()]"
   ]
  },
  {
   "cell_type": "code",
   "execution_count": 15,
   "metadata": {},
   "outputs": [
    {
     "data": {
      "text/html": [
       "<div>\n",
       "<style scoped>\n",
       "    .dataframe tbody tr th:only-of-type {\n",
       "        vertical-align: middle;\n",
       "    }\n",
       "\n",
       "    .dataframe tbody tr th {\n",
       "        vertical-align: top;\n",
       "    }\n",
       "\n",
       "    .dataframe thead th {\n",
       "        text-align: right;\n",
       "    }\n",
       "</style>\n",
       "<table border=\"1\" class=\"dataframe\">\n",
       "  <thead>\n",
       "    <tr style=\"text-align: right;\">\n",
       "      <th></th>\n",
       "      <th>word</th>\n",
       "      <th>word_with_stress</th>\n",
       "      <th>word_list</th>\n",
       "      <th>word_stress_pos</th>\n",
       "    </tr>\n",
       "  </thead>\n",
       "  <tbody>\n",
       "    <tr>\n",
       "      <th>2906284</th>\n",
       "      <td>шкитильгатимете</td>\n",
       "      <td>шкитильг+атимете</td>\n",
       "      <td>[ш, к, и, т, и, л, ь, г, а, т, и, м, е, т, е]</td>\n",
       "      <td>[0.0, 0.0, 0.0, 0.0, 0.0, 0.0, 0.0, 0.0, 1.0, ...</td>\n",
       "    </tr>\n",
       "    <tr>\n",
       "      <th>1285208</th>\n",
       "      <td>надгризи</td>\n",
       "      <td>надгр+изи</td>\n",
       "      <td>[н, а, д, г, р, и, з, и]</td>\n",
       "      <td>[0.0, 0.0, 0.0, 0.0, 0.0, 1.0, 0.0, 0.0]</td>\n",
       "    </tr>\n",
       "    <tr>\n",
       "      <th>219867</th>\n",
       "      <td>вгнімось</td>\n",
       "      <td>вгн+імось</td>\n",
       "      <td>[в, г, н, і, м, о, с, ь]</td>\n",
       "      <td>[0.0, 0.0, 0.0, 1.0, 0.0, 0.0, 0.0, 0.0]</td>\n",
       "    </tr>\n",
       "    <tr>\n",
       "      <th>648244</th>\n",
       "      <td>достарчиш</td>\n",
       "      <td>дост+арчиш</td>\n",
       "      <td>[д, о, с, т, а, р, ч, и, ш]</td>\n",
       "      <td>[0.0, 0.0, 0.0, 0.0, 1.0, 0.0, 0.0, 0.0, 0.0]</td>\n",
       "    </tr>\n",
       "    <tr>\n",
       "      <th>2505282</th>\n",
       "      <td>сталінку</td>\n",
       "      <td>ст+алінку</td>\n",
       "      <td>[с, т, а, л, і, н, к, у]</td>\n",
       "      <td>[0.0, 0.0, 1.0, 0.0, 0.0, 0.0, 0.0, 0.0]</td>\n",
       "    </tr>\n",
       "  </tbody>\n",
       "</table>\n",
       "</div>"
      ],
      "text/plain": [
       "                    word  word_with_stress  \\\n",
       "2906284  шкитильгатимете  шкитильг+атимете   \n",
       "1285208         надгризи         надгр+изи   \n",
       "219867          вгнімось         вгн+імось   \n",
       "648244         достарчиш        дост+арчиш   \n",
       "2505282         сталінку         ст+алінку   \n",
       "\n",
       "                                             word_list  \\\n",
       "2906284  [ш, к, и, т, и, л, ь, г, а, т, и, м, е, т, е]   \n",
       "1285208                       [н, а, д, г, р, и, з, и]   \n",
       "219867                        [в, г, н, і, м, о, с, ь]   \n",
       "648244                     [д, о, с, т, а, р, ч, и, ш]   \n",
       "2505282                       [с, т, а, л, і, н, к, у]   \n",
       "\n",
       "                                           word_stress_pos  \n",
       "2906284  [0.0, 0.0, 0.0, 0.0, 0.0, 0.0, 0.0, 0.0, 1.0, ...  \n",
       "1285208           [0.0, 0.0, 0.0, 0.0, 0.0, 1.0, 0.0, 0.0]  \n",
       "219867            [0.0, 0.0, 0.0, 1.0, 0.0, 0.0, 0.0, 0.0]  \n",
       "648244       [0.0, 0.0, 0.0, 0.0, 1.0, 0.0, 0.0, 0.0, 0.0]  \n",
       "2505282           [0.0, 0.0, 1.0, 0.0, 0.0, 0.0, 0.0, 0.0]  "
      ]
     },
     "execution_count": 15,
     "metadata": {},
     "output_type": "execute_result"
    }
   ],
   "source": [
    "data.sample(5)"
   ]
  },
  {
   "cell_type": "code",
   "execution_count": 16,
   "metadata": {},
   "outputs": [
    {
     "data": {
      "text/plain": [
       "29"
      ]
     },
     "execution_count": 16,
     "metadata": {},
     "output_type": "execute_result"
    }
   ],
   "source": [
    "max_sequence_len = np.max(data.word.str.len())\n",
    "max_sequence_len"
   ]
  },
  {
   "cell_type": "code",
   "execution_count": 17,
   "metadata": {},
   "outputs": [],
   "source": [
    "def flatten(array):\n",
    "    for item in array:\n",
    "        if isinstance(item, list):\n",
    "            yield from flatten(item)\n",
    "        else:\n",
    "            yield item\n",
    "\n",
    "\n",
    "class SequenceTokenizer:\n",
    "    \n",
    "    def __init__(self):\n",
    "        self.word2index = {}\n",
    "        self.index2word = {}\n",
    "        self.oov_token ='<UNK>'\n",
    "        self.oov_token_index = 0\n",
    "        \n",
    "    def fit(self, sequence):\n",
    "        self.index2word = dict(enumerate([self.oov_token] + sorted(set(flatten(sequence))), 1))\n",
    "        self.word2index = {v:k for k,v in self.index2word.items()}\n",
    "        self.oov_token_index = self.word2index.get(self.oov_token)\n",
    "        return self\n",
    "    \n",
    "    def transform(self, X):\n",
    "        res = []\n",
    "        for line in X:\n",
    "            res.append([self.word2index.get(item, self.oov_token_index) for item in line])\n",
    "        return res"
   ]
  },
  {
   "cell_type": "code",
   "execution_count": 18,
   "metadata": {},
   "outputs": [],
   "source": [
    "tokenizer = SequenceTokenizer()\n",
    "tokenizer.fit(data.word_list);"
   ]
  },
  {
   "cell_type": "code",
   "execution_count": 19,
   "metadata": {},
   "outputs": [
    {
     "data": {
      "text/plain": [
       "{'<UNK>': 1,\n",
       " \"'\": 2,\n",
       " 'а': 3,\n",
       " 'б': 4,\n",
       " 'в': 5,\n",
       " 'г': 6,\n",
       " 'д': 7,\n",
       " 'е': 8,\n",
       " 'ж': 9,\n",
       " 'з': 10,\n",
       " 'и': 11,\n",
       " 'й': 12,\n",
       " 'к': 13,\n",
       " 'л': 14,\n",
       " 'м': 15,\n",
       " 'н': 16,\n",
       " 'о': 17,\n",
       " 'п': 18,\n",
       " 'р': 19,\n",
       " 'с': 20,\n",
       " 'т': 21,\n",
       " 'у': 22,\n",
       " 'ф': 23,\n",
       " 'х': 24,\n",
       " 'ц': 25,\n",
       " 'ч': 26,\n",
       " 'ш': 27,\n",
       " 'щ': 28,\n",
       " 'ь': 29,\n",
       " 'ю': 30,\n",
       " 'я': 31,\n",
       " 'є': 32,\n",
       " 'і': 33,\n",
       " 'ї': 34,\n",
       " 'ґ': 35}"
      ]
     },
     "execution_count": 19,
     "metadata": {},
     "output_type": "execute_result"
    }
   ],
   "source": [
    "tokenizer.word2index"
   ]
  },
  {
   "cell_type": "code",
   "execution_count": 20,
   "metadata": {},
   "outputs": [],
   "source": [
    "X = tokenizer.transform(data.word_list)"
   ]
  },
  {
   "cell_type": "code",
   "execution_count": 21,
   "metadata": {},
   "outputs": [],
   "source": [
    "def pad_sequence(lst, max_seq=max_sequence_len):\n",
    "    if isinstance(lst[0], list):\n",
    "        return np.array([i + [0]*(max_seq-len(i)) for i in lst])\n",
    "    else:\n",
    "        lst + [0]*(max_seq-len(lst))"
   ]
  },
  {
   "cell_type": "code",
   "execution_count": 22,
   "metadata": {},
   "outputs": [],
   "source": [
    "# %%time\n",
    "\n",
    "# input_seq = zip(*itertools.zip_longest(*X, fillvalue=0))\n",
    "# input_seq = list(map(list, input_seq))\n",
    "# input_seq = np.array(input_seq)"
   ]
  },
  {
   "cell_type": "code",
   "execution_count": 23,
   "metadata": {},
   "outputs": [
    {
     "name": "stdout",
     "output_type": "stream",
     "text": [
      "CPU times: user 10.9 s, sys: 340 ms, total: 11.2 s\n",
      "Wall time: 11.2 s\n"
     ]
    }
   ],
   "source": [
    "%%time\n",
    "\n",
    "input_seq = pad_sequence(X)"
   ]
  },
  {
   "cell_type": "code",
   "execution_count": 24,
   "metadata": {},
   "outputs": [
    {
     "name": "stdout",
     "output_type": "stream",
     "text": [
      "(2960052, 29)\n"
     ]
    },
    {
     "data": {
      "text/plain": [
       "array([[ 3,  0,  0, ...,  0,  0,  0],\n",
       "       [ 3,  3, 14, ...,  0,  0,  0],\n",
       "       [ 3,  3, 14, ...,  0,  0,  0],\n",
       "       ...,\n",
       "       [35, 22, 19, ...,  0,  0,  0],\n",
       "       [35, 22, 19, ...,  0,  0,  0],\n",
       "       [35, 22, 19, ...,  0,  0,  0]])"
      ]
     },
     "execution_count": 24,
     "metadata": {},
     "output_type": "execute_result"
    }
   ],
   "source": [
    "print(input_seq.shape)\n",
    "input_seq"
   ]
  },
  {
   "cell_type": "code",
   "execution_count": 25,
   "metadata": {},
   "outputs": [],
   "source": [
    "y = data.word_stress_pos.values"
   ]
  },
  {
   "cell_type": "code",
   "execution_count": 26,
   "metadata": {},
   "outputs": [],
   "source": [
    "output_seq = zip(*itertools.zip_longest(*y, fillvalue=0))\n",
    "output_seq = list(map(list, output_seq))\n",
    "output_seq = np.array(output_seq).astype(int)"
   ]
  },
  {
   "cell_type": "code",
   "execution_count": 27,
   "metadata": {},
   "outputs": [
    {
     "name": "stdout",
     "output_type": "stream",
     "text": [
      "(2960052, 29)\n"
     ]
    },
    {
     "data": {
      "text/plain": [
       "array([[1, 0, 0, ..., 0, 0, 0],\n",
       "       [1, 0, 0, ..., 0, 0, 0],\n",
       "       [1, 0, 0, ..., 0, 0, 0],\n",
       "       ...,\n",
       "       [0, 0, 0, ..., 0, 0, 0],\n",
       "       [0, 0, 0, ..., 0, 0, 0],\n",
       "       [0, 0, 0, ..., 0, 0, 0]])"
      ]
     },
     "execution_count": 27,
     "metadata": {},
     "output_type": "execute_result"
    }
   ],
   "source": [
    "print(output_seq.shape)\n",
    "output_seq"
   ]
  },
  {
   "cell_type": "code",
   "execution_count": 28,
   "metadata": {},
   "outputs": [],
   "source": [
    "(input_seq_train, input_seq_val, \n",
    " output_seq_train, output_seq_val) = train_test_split(input_seq, \n",
    "                                                      output_seq, \n",
    "                                                      test_size=0.5, \n",
    "                                                      random_state=RANDOM_SEED)"
   ]
  },
  {
   "cell_type": "code",
   "execution_count": 29,
   "metadata": {},
   "outputs": [],
   "source": [
    "input_seq_train = torch.tensor(input_seq_train, dtype=torch.long).cuda()\n",
    "input_seq_val = torch.tensor(input_seq_val, dtype=torch.long).cuda()\n",
    "output_seq_train = torch.tensor(output_seq_train, dtype=torch.float).cuda()\n",
    "output_seq_val = torch.tensor(output_seq_val, dtype=torch.float).cuda()"
   ]
  },
  {
   "cell_type": "code",
   "execution_count": 30,
   "metadata": {},
   "outputs": [],
   "source": [
    "class MyDataset(Dataset):\n",
    "    def __init__(self, dataset):\n",
    "        self.dataset = dataset\n",
    "        \n",
    "    def __getitem__(self, index):\n",
    "        data,target = self.dataset[index]\n",
    "        return data, target, index\n",
    "    \n",
    "    def __len__(self):\n",
    "        return len(self.dataset)"
   ]
  },
  {
   "cell_type": "code",
   "execution_count": 31,
   "metadata": {},
   "outputs": [],
   "source": [
    "class LSTM_model(nn.Module):\n",
    "\n",
    "    def __init__(self, embedding_dim, hidden_dim, vocab_size, target_size):\n",
    "        super(LSTM_model, self).__init__()\n",
    "        self.hidden_dim = hidden_dim\n",
    "\n",
    "        self.embeddings = nn.Embedding(vocab_size, embedding_dim)\n",
    "\n",
    "        self.lstm = nn.LSTM(input_size=self.embeddings.embedding_dim,\n",
    "                            hidden_size=hidden_dim,\n",
    "                            num_layers=3,\n",
    "                            batch_first=True,\n",
    "                            bidirectional=True)\n",
    "        self.linear = nn.Linear(self.hidden_dim * 4 , 64)\n",
    "        self.batch_norm = nn.BatchNorm1d(self.hidden_dim * 4, affine=False)\n",
    "        self.relu = nn.ReLU()\n",
    "        self.dropout = nn.Dropout(0.2)\n",
    "        self.out = nn.Linear(64, target_size)\n",
    "\n",
    "    def forward(self, x):\n",
    "        h_embeddings = self.embeddings(x)\n",
    "        \n",
    "        h_lstm, _ = self.lstm(h_embeddings)\n",
    "        avg_pool = torch.mean(h_lstm, 1)\n",
    "        max_pool, _ = torch.max(h_lstm, 1)\n",
    "        x = torch.cat((avg_pool, max_pool), 1)\n",
    "        x = self.batch_norm(x)\n",
    "        x = self.linear(x)\n",
    "        x = self.relu(x)\n",
    "        x = self.dropout(x)\n",
    "        x = self.out(x)\n",
    "        y = nn.functional.softmax(x, dim=1)\n",
    "        return y"
   ]
  },
  {
   "cell_type": "code",
   "execution_count": 32,
   "metadata": {},
   "outputs": [
    {
     "data": {
      "text/plain": [
       "LSTM_model(\n",
       "  (embeddings): Embedding(36, 64)\n",
       "  (lstm): LSTM(64, 64, num_layers=3, batch_first=True, bidirectional=True)\n",
       "  (linear): Linear(in_features=256, out_features=64, bias=True)\n",
       "  (batch_norm): BatchNorm1d(256, eps=1e-05, momentum=0.1, affine=False, track_running_stats=True)\n",
       "  (relu): ReLU()\n",
       "  (dropout): Dropout(p=0.2, inplace=False)\n",
       "  (out): Linear(in_features=64, out_features=29, bias=True)\n",
       ")"
      ]
     },
     "execution_count": 32,
     "metadata": {},
     "output_type": "execute_result"
    }
   ],
   "source": [
    "model = LSTM_model(embedding_dim=64, \n",
    "                   hidden_dim=64, \n",
    "                   vocab_size=len(tokenizer.word2index) + 1, \n",
    "                   target_size=max_sequence_len)\n",
    "model.cuda()"
   ]
  },
  {
   "cell_type": "code",
   "execution_count": 33,
   "metadata": {},
   "outputs": [],
   "source": [
    "loss_function = nn.BCEWithLogitsLoss()\n",
    "optimizer = torch.optim.Adam(filter(lambda p: p.requires_grad, model.parameters()), lr=1e-3)"
   ]
  },
  {
   "cell_type": "code",
   "execution_count": 34,
   "metadata": {},
   "outputs": [],
   "source": [
    "BATCH_SIZE = 256 * 2\n",
    "\n",
    "train = MyDataset(torch.utils.data.TensorDataset(input_seq_train, output_seq_train))\n",
    "valid = MyDataset(torch.utils.data.TensorDataset(input_seq_val, output_seq_val))\n",
    "\n",
    "train_loader = torch.utils.data.DataLoader(train, batch_size=BATCH_SIZE, shuffle=True)\n",
    "valid_loader = torch.utils.data.DataLoader(valid, batch_size=BATCH_SIZE, shuffle=False)"
   ]
  },
  {
   "cell_type": "code",
   "execution_count": 35,
   "metadata": {},
   "outputs": [],
   "source": [
    "# with torch.no_grad():\n",
    "#     (x_sample, y_sample, index) = train[:2]\n",
    "#     preds = model(x_sample.reshape(1, -1))\n",
    "#     print(preds.shape)"
   ]
  },
  {
   "cell_type": "markdown",
   "metadata": {},
   "source": [
    "### K-Fold training"
   ]
  },
  {
   "cell_type": "code",
   "execution_count": 36,
   "metadata": {},
   "outputs": [],
   "source": [
    "from sklearn.model_selection import KFold"
   ]
  },
  {
   "cell_type": "code",
   "execution_count": 37,
   "metadata": {},
   "outputs": [],
   "source": [
    "n_folds = 5"
   ]
  },
  {
   "cell_type": "code",
   "execution_count": 38,
   "metadata": {},
   "outputs": [],
   "source": [
    "kf = KFold(n_splits=n_folds, shuffle=True, random_state=RANDOM_SEED)\n",
    "# kf.get_n_splits(X=input_seq, y=output_seq)"
   ]
  },
  {
   "cell_type": "code",
   "execution_count": 39,
   "metadata": {},
   "outputs": [
    {
     "name": "stdout",
     "output_type": "stream",
     "text": [
      "(2368041,) (592011,)\n",
      "(2368041,) (592011,)\n",
      "(2368042,) (592010,)\n",
      "(2368042,) (592010,)\n",
      "(2368042,) (592010,)\n"
     ]
    }
   ],
   "source": [
    "for train_index, test_index in kf.split(X=input_seq, y=output_seq):\n",
    "    print(train_index.shape, test_index.shape)"
   ]
  },
  {
   "cell_type": "code",
   "execution_count": 40,
   "metadata": {},
   "outputs": [
    {
     "data": {
      "text/plain": [
       "(2960052, 29)"
      ]
     },
     "execution_count": 40,
     "metadata": {},
     "output_type": "execute_result"
    }
   ],
   "source": [
    "input_seq"
   ]
  },
  {
   "cell_type": "markdown",
   "metadata": {},
   "source": [
    "### Training loop"
   ]
  },
  {
   "cell_type": "code",
   "execution_count": 41,
   "metadata": {},
   "outputs": [
    {
     "name": "stdout",
     "output_type": "stream",
     "text": [
      "Epoch [1/50]  progress = 100% \t loss=0.6920 \t acc=65.04% \n",
      "Epoch [1/50]  results:\t\t loss=0.6920\t acc=65.04%\t val_loss=0.6884\t val_acc=75.71%\t time=91.47s\n",
      "------------------------------------------------------------------------------\n",
      "Epoch [2/50]  progress = 100% \t loss=0.6880 \t acc=76.95% \n",
      "Epoch [2/50]  results:\t\t loss=0.6880\t acc=76.95%\t val_loss=0.6874\t val_acc=78.65%\t time=91.03s\n",
      "------------------------------------------------------------------------------\n",
      "Epoch [3/50]  progress = 100% \t loss=0.6873 \t acc=78.94% \n",
      "Epoch [3/50]  results:\t\t loss=0.6873\t acc=78.94%\t val_loss=0.6872\t val_acc=79.29%\t time=89.76s\n",
      "------------------------------------------------------------------------------\n",
      "Epoch [4/50]  progress = 100% \t loss=0.6869 \t acc=80.04% \n",
      "Epoch [4/50]  results:\t\t loss=0.6869\t acc=80.04%\t val_loss=0.6868\t val_acc=80.37%\t time=91.21s\n",
      "------------------------------------------------------------------------------\n",
      "Epoch [5/50]  progress = 100% \t loss=0.6866 \t acc=81.05% \n",
      "Epoch [5/50]  results:\t\t loss=0.6866\t acc=81.05%\t val_loss=0.6864\t val_acc=81.54%\t time=91.83s\n",
      "------------------------------------------------------------------------------\n",
      "Epoch [6/50]  progress = 100% \t loss=0.6862 \t acc=82.14% \n",
      "Epoch [6/50]  results:\t\t loss=0.6862\t acc=82.14%\t val_loss=0.6862\t val_acc=81.99%\t time=91.13s\n",
      "------------------------------------------------------------------------------\n",
      "Epoch [7/50]  progress = 100% \t loss=0.6860 \t acc=82.60% \n",
      "Epoch [7/50]  results:\t\t loss=0.6860\t acc=82.60%\t val_loss=0.6860\t val_acc=82.70%\t time=90.93s\n",
      "------------------------------------------------------------------------------\n",
      "Epoch [8/50]  progress = 100% \t loss=0.6859 \t acc=82.96% \n",
      "Epoch [8/50]  results:\t\t loss=0.6859\t acc=82.96%\t val_loss=0.6857\t val_acc=83.60%\t time=89.04s\n",
      "------------------------------------------------------------------------------\n",
      "Epoch [9/50]  progress = 100% \t loss=0.6856 \t acc=83.85% \n",
      "Epoch [9/50]  results:\t\t loss=0.6856\t acc=83.85%\t val_loss=0.6854\t val_acc=84.48%\t time=91.43s\n",
      "------------------------------------------------------------------------------\n",
      "Epoch [10/50]  progress = 100% \t loss=0.6855 \t acc=84.28% \n",
      "Epoch [10/50]  results:\t\t loss=0.6855\t acc=84.28%\t val_loss=0.6854\t val_acc=84.35%\t time=90.64s\n",
      "------------------------------------------------------------------------------\n",
      "Epoch [11/50]  progress = 100% \t loss=0.6854 \t acc=84.55% \n",
      "Epoch [11/50]  results:\t\t loss=0.6854\t acc=84.55%\t val_loss=0.6855\t val_acc=84.16%\t time=92.14s\n",
      "------------------------------------------------------------------------------\n",
      "Epoch [12/50]  progress = 100% \t loss=0.6852 \t acc=85.00% \n",
      "Epoch [12/50]  results:\t\t loss=0.6852\t acc=85.00%\t val_loss=0.6851\t val_acc=85.32%\t time=89.66s\n",
      "------------------------------------------------------------------------------\n",
      "Epoch [13/50]  progress = 100% \t loss=0.6852 \t acc=85.13% \n",
      "Epoch [13/50]  results:\t\t loss=0.6852\t acc=85.13%\t val_loss=0.6851\t val_acc=85.16%\t time=88.57s\n",
      "------------------------------------------------------------------------------\n",
      "Epoch [14/50]  progress = 100% \t loss=0.6850 \t acc=85.63% \n",
      "Epoch [14/50]  results:\t\t loss=0.6850\t acc=85.63%\t val_loss=0.6850\t val_acc=85.59%\t time=90.40s\n",
      "------------------------------------------------------------------------------\n",
      "Epoch [15/50]  progress = 100% \t loss=0.6848 \t acc=86.17% \n",
      "Epoch [15/50]  results:\t\t loss=0.6848\t acc=86.17%\t val_loss=0.6848\t val_acc=86.18%\t time=90.52s\n",
      "------------------------------------------------------------------------------\n",
      "Epoch [16/50]  progress = 100% \t loss=0.6849 \t acc=85.82% \n",
      "Epoch [16/50]  results:\t\t loss=0.6849\t acc=85.82%\t val_loss=0.6850\t val_acc=85.62%\t time=91.08s\n",
      "------------------------------------------------------------------------------\n",
      "Epoch [17/50]  progress = 100% \t loss=0.6848 \t acc=86.22% \n",
      "Epoch [17/50]  results:\t\t loss=0.6848\t acc=86.22%\t val_loss=0.6848\t val_acc=86.18%\t time=91.35s\n",
      "------------------------------------------------------------------------------\n",
      "Epoch [18/50]  progress = 100% \t loss=0.6848 \t acc=86.16% \n",
      "Epoch [18/50]  results:\t\t loss=0.6848\t acc=86.16%\t val_loss=0.6848\t val_acc=86.27%\t time=92.12s\n",
      "------------------------------------------------------------------------------\n",
      "Epoch [19/50]  progress = 100% \t loss=0.6847 \t acc=86.61% \n",
      "Epoch [19/50]  results:\t\t loss=0.6847\t acc=86.61%\t val_loss=0.6848\t val_acc=86.27%\t time=92.74s\n",
      "------------------------------------------------------------------------------\n",
      "Epoch [20/50]  progress = 100% \t loss=0.6845 \t acc=86.98% \n",
      "Epoch [20/50]  results:\t\t loss=0.6845\t acc=86.98%\t val_loss=0.6845\t val_acc=87.13%\t time=91.27s\n",
      "------------------------------------------------------------------------------\n",
      "Epoch [21/50]  progress = 100% \t loss=0.6844 \t acc=87.24% \n",
      "Epoch [21/50]  results:\t\t loss=0.6844\t acc=87.24%\t val_loss=0.6850\t val_acc=85.60%\t time=91.81s\n",
      "------------------------------------------------------------------------------\n",
      "Epoch [22/50]  progress = 100% \t loss=0.6845 \t acc=87.03% \n",
      "Epoch [22/50]  results:\t\t loss=0.6845\t acc=87.03%\t val_loss=0.6844\t val_acc=87.36%\t time=89.55s\n",
      "------------------------------------------------------------------------------\n",
      "Epoch [23/50]  progress = 100% \t loss=0.6844 \t acc=87.34% \n",
      "Epoch [23/50]  results:\t\t loss=0.6844\t acc=87.34%\t val_loss=0.6845\t val_acc=87.03%\t time=91.91s\n",
      "------------------------------------------------------------------------------\n",
      "Epoch [24/50]  progress = 100% \t loss=0.6844 \t acc=87.48% \n",
      "Epoch [24/50]  results:\t\t loss=0.6844\t acc=87.48%\t val_loss=0.6844\t val_acc=87.27%\t time=92.06s\n",
      "------------------------------------------------------------------------------\n",
      "Epoch [25/50]  progress = 100% \t loss=0.6843 \t acc=87.68% \n",
      "Epoch [25/50]  results:\t\t loss=0.6843\t acc=87.68%\t val_loss=0.6843\t val_acc=87.65%\t time=91.81s\n",
      "------------------------------------------------------------------------------\n",
      "Epoch [26/50]  progress = 100% \t loss=0.6842 \t acc=87.95% \n",
      "Epoch [26/50]  results:\t\t loss=0.6842\t acc=87.95%\t val_loss=0.6849\t val_acc=85.90%\t time=91.90s\n",
      "------------------------------------------------------------------------------\n",
      "Epoch [27/50]  progress = 100% \t loss=0.6842 \t acc=87.82% \n",
      "Epoch [27/50]  results:\t\t loss=0.6842\t acc=87.82%\t val_loss=0.6842\t val_acc=87.79%\t time=91.27s\n",
      "------------------------------------------------------------------------------\n",
      "Epoch [28/50]  progress = 100% \t loss=0.6842 \t acc=88.05% \n",
      "Epoch [28/50]  results:\t\t loss=0.6842\t acc=88.05%\t val_loss=0.6845\t val_acc=86.93%\t time=91.52s\n",
      "------------------------------------------------------------------------------\n",
      "Epoch [29/50]  progress = 100% \t loss=0.6842 \t acc=87.96% \n",
      "Epoch [29/50]  results:\t\t loss=0.6842\t acc=87.96%\t val_loss=0.6841\t val_acc=88.08%\t time=91.41s\n",
      "------------------------------------------------------------------------------\n",
      "Epoch [30/50]  progress = 100% \t loss=0.6841 \t acc=88.11% \n",
      "Epoch [30/50]  results:\t\t loss=0.6841\t acc=88.11%\t val_loss=0.6842\t val_acc=87.88%\t time=90.68s\n",
      "------------------------------------------------------------------------------\n",
      "Epoch [31/50]  progress = 100% \t loss=0.6843 \t acc=87.66% \n",
      "Epoch [31/50]  results:\t\t loss=0.6843\t acc=87.66%\t val_loss=0.6842\t val_acc=88.03%\t time=91.27s\n",
      "------------------------------------------------------------------------------\n",
      "Epoch [32/50]  progress = 100% \t loss=0.6841 \t acc=88.11% \n",
      "Epoch [32/50]  results:\t\t loss=0.6841\t acc=88.11%\t val_loss=0.6844\t val_acc=87.46%\t time=91.07s\n",
      "------------------------------------------------------------------------------\n",
      "Epoch [33/50]  progress = 100% \t loss=0.6841 \t acc=88.19% \n",
      "Epoch [33/50]  results:\t\t loss=0.6841\t acc=88.19%\t val_loss=0.6841\t val_acc=88.14%\t time=91.98s\n",
      "------------------------------------------------------------------------------\n",
      "Epoch [34/50]  progress = 100% \t loss=0.6841 \t acc=88.30% \n",
      "Epoch [34/50]  results:\t\t loss=0.6841\t acc=88.30%\t val_loss=0.6842\t val_acc=87.86%\t time=92.20s\n",
      "------------------------------------------------------------------------------\n",
      "Epoch [35/50]  progress = 100% \t loss=0.6841 \t acc=88.33% \n",
      "Epoch [35/50]  results:\t\t loss=0.6841\t acc=88.33%\t val_loss=0.6841\t val_acc=88.26%\t time=91.22s\n",
      "------------------------------------------------------------------------------\n",
      "Epoch [36/50]  progress = 100% \t loss=0.6840 \t acc=88.50% \n",
      "Epoch [36/50]  results:\t\t loss=0.6840\t acc=88.50%\t val_loss=0.6844\t val_acc=87.49%\t time=91.16s\n",
      "------------------------------------------------------------------------------\n",
      "Epoch [37/50]  progress = 100% \t loss=0.6841 \t acc=88.31% \n",
      "Epoch [37/50]  results:\t\t loss=0.6841\t acc=88.31%\t val_loss=0.6840\t val_acc=88.40%\t time=91.41s\n",
      "------------------------------------------------------------------------------\n",
      "Epoch [38/50]  progress = 100% \t loss=0.6840 \t acc=88.60% \n",
      "Epoch [38/50]  results:\t\t loss=0.6840\t acc=88.60%\t val_loss=0.6840\t val_acc=88.47%\t time=91.88s\n",
      "------------------------------------------------------------------------------\n",
      "Epoch [39/50]  progress = 100% \t loss=0.6840 \t acc=88.61% \n",
      "Epoch [39/50]  results:\t\t loss=0.6840\t acc=88.61%\t val_loss=0.6841\t val_acc=88.20%\t time=92.89s\n",
      "------------------------------------------------------------------------------\n",
      "Epoch [40/50]  progress = 100% \t loss=0.6840 \t acc=88.59% \n",
      "Epoch [40/50]  results:\t\t loss=0.6840\t acc=88.59%\t val_loss=0.6841\t val_acc=88.14%\t time=91.99s\n",
      "------------------------------------------------------------------------------\n",
      "Epoch [41/50]  progress = 100% \t loss=0.6840 \t acc=88.55% \n",
      "Epoch [41/50]  results:\t\t loss=0.6840\t acc=88.55%\t val_loss=0.6841\t val_acc=88.22%\t time=90.94s\n",
      "------------------------------------------------------------------------------\n",
      "Epoch [42/50]  progress = 100% \t loss=0.6840 \t acc=88.63% \n",
      "Epoch [42/50]  results:\t\t loss=0.6840\t acc=88.63%\t val_loss=0.6841\t val_acc=88.35%\t time=91.45s\n",
      "------------------------------------------------------------------------------\n",
      "Epoch [43/50]  progress = 100% \t loss=0.6840 \t acc=88.65% \n",
      "Epoch [43/50]  results:\t\t loss=0.6840\t acc=88.65%\t val_loss=0.6841\t val_acc=88.33%\t time=91.26s\n",
      "------------------------------------------------------------------------------\n",
      "Epoch [44/50]  progress = 100% \t loss=0.6840 \t acc=88.45% \n",
      "Epoch [44/50]  results:\t\t loss=0.6840\t acc=88.45%\t val_loss=0.6841\t val_acc=88.34%\t time=91.51s\n",
      "------------------------------------------------------------------------------\n",
      "Epoch [45/50]  progress = 100% \t loss=0.6840 \t acc=88.64% \n",
      "Epoch [45/50]  results:\t\t loss=0.6840\t acc=88.64%\t val_loss=0.6841\t val_acc=88.30%\t time=88.91s\n",
      "------------------------------------------------------------------------------\n",
      "Epoch [46/50]  progress = 100% \t loss=0.6839 \t acc=88.71% \n",
      "Epoch [46/50]  results:\t\t loss=0.6839\t acc=88.71%\t val_loss=0.6841\t val_acc=88.34%\t time=89.36s\n",
      "------------------------------------------------------------------------------\n",
      "Epoch [47/50]  progress = 100% \t loss=0.6839 \t acc=88.74% \n",
      "Epoch [47/50]  results:\t\t loss=0.6839\t acc=88.74%\t val_loss=0.6840\t val_acc=88.51%\t time=91.05s\n",
      "------------------------------------------------------------------------------\n",
      "Epoch [48/50]  progress = 100% \t loss=0.6839 \t acc=88.68% \n",
      "Epoch [48/50]  results:\t\t loss=0.6839\t acc=88.68%\t val_loss=0.6841\t val_acc=88.37%\t time=91.34s\n",
      "------------------------------------------------------------------------------\n",
      "Epoch [49/50]  progress = 100% \t loss=0.6839 \t acc=88.67% \n",
      "Epoch [49/50]  results:\t\t loss=0.6839\t acc=88.67%\t val_loss=0.6839\t val_acc=88.71%\t time=90.76s\n",
      "------------------------------------------------------------------------------\n",
      "Epoch [50/50]  progress = 100% \t loss=0.6839 \t acc=88.74% \n",
      "Epoch [50/50]  results:\t\t loss=0.6839\t acc=88.74%\t val_loss=0.6840\t val_acc=88.65%\t time=91.47s\n",
      "------------------------------------------------------------------------------\n"
     ]
    }
   ],
   "source": [
    "n_epochs = 50\n",
    "history = {'train': {}, 'val': {}}\n",
    "teacher_forcing_ratio = 0.5\n",
    "\n",
    "for epoch in range(1, n_epochs + 1):\n",
    "    start_time = time.time()\n",
    "    \n",
    "    model.train()\n",
    "\n",
    "    avg_loss, total_loss, avg_acc, total_acc = 0., 0., 0., 0.\n",
    "    for i, (x_batch, y_batch, index) in enumerate(train_loader):\n",
    "        y_pred = model(x_batch)\n",
    "        loss = loss_function(y_pred, y_batch)\n",
    "        \n",
    "        optimizer.zero_grad()\n",
    "        loss.backward()\n",
    "        optimizer.step()\n",
    "        \n",
    "        equal = torch.eq(torch.argmax(y_pred, axis=1), torch.argmax(y_batch, axis=1))\n",
    "        batch_acc = int(equal.sum(-1)) / y_batch.shape[0]\n",
    "        batch_loss = loss.item()\n",
    "        \n",
    "        total_acc += batch_acc\n",
    "        total_loss += batch_loss\n",
    "        print(f\"\\rEpoch [{epoch}/{n_epochs}] \"\n",
    "              f\" progress = {round(i/len(train_loader)*100)}% \"\n",
    "              f\"\\t loss={total_loss / (i + 1):.4f} \"\n",
    "              f\"\\t acc={total_acc / (i + 1) * 100:.2f}% \", end='')\n",
    "    avg_loss = total_loss / len(train_loader)\n",
    "    avg_acc = total_acc / len(train_loader)\n",
    "    history['train']['loss'] = history.get('train', {}).get('loss', []) + [avg_loss]\n",
    "    history['train']['accuracy'] = history.get('train', {}).get('accuracy', []) + [avg_acc]\n",
    "        \n",
    "    model.eval()\n",
    "\n",
    "    \n",
    "    avg_val_loss, total_val_loss, avg_val_acc, total_val_acc = 0., 0., 0., 0.\n",
    "    for i, (x_batch, y_batch, index) in enumerate(valid_loader):\n",
    "        y_pred = model(x_batch).detach()\n",
    "        val_loss = loss_function(y_pred, y_batch)\n",
    "        \n",
    "        equal = torch.eq(torch.argmax(y_pred, axis=1), torch.argmax(y_batch, axis=1))\n",
    "        batch_val_acc = int(equal.sum(-1)) / y_batch.shape[0]\n",
    "        batch_val_loss = val_loss.item()\n",
    "        \n",
    "        total_val_acc += batch_val_acc\n",
    "        total_val_loss += batch_val_loss\n",
    "    avg_val_loss = total_val_loss / len(valid_loader)\n",
    "    avg_val_acc = total_val_acc / len(valid_loader)\n",
    "    history['val']['loss'] = history.get('val', {}).get('loss', []) + [avg_val_loss]\n",
    "    history['val']['accuracy'] = history.get('val', {}).get('accuracy', []) + [avg_val_acc]\n",
    "    \n",
    "    elapsed_time = time.time() - start_time \n",
    "    print(f\"\\nEpoch [{epoch}/{n_epochs}]  results:\"\n",
    "          f\"\\t\\t loss={avg_loss:.4f}\"\n",
    "          f\"\\t acc={avg_acc * 100:.2f}%\"\n",
    "          f\"\\t val_loss={avg_val_loss:.4f}\"\n",
    "          f\"\\t val_acc={avg_val_acc * 100:.2f}%\"\n",
    "          f\"\\t time={elapsed_time:.2f}s\")\n",
    "    print(\"-\"*78)"
   ]
  },
  {
   "cell_type": "code",
   "execution_count": 42,
   "metadata": {},
   "outputs": [
    {
     "data": {
      "image/png": "[encoded data removed]",
      "text/plain": [
       "<Figure size 864x576 with 1 Axes>"
      ]
     },
     "metadata": {
      "needs_background": "light"
     },
     "output_type": "display_data"
    }
   ],
   "source": [
    "plt.figure(figsize=(12, 8))\n",
    "\n",
    "plt.plot(history['train']['loss'])\n",
    "plt.plot(history['val']['loss'])\n",
    "plt.title('model loss')\n",
    "plt.ylabel('val')\n",
    "plt.xlabel('epoch')\n",
    "plt.xticks(np.arange(len(history['train']['loss'])), np.arange(1, len(history['train']['loss']) + 1))\n",
    "plt.legend(['train', 'val'], loc='upper right')\n",
    "\n",
    "plt.show()"
   ]
  },
  {
   "cell_type": "code",
   "execution_count": 43,
   "metadata": {},
   "outputs": [
    {
     "data": {
      "image/png": "[encoded data removed]",
      "text/plain": [
       "<Figure size 864x576 with 1 Axes>"
      ]
     },
     "metadata": {
      "needs_background": "light"
     },
     "output_type": "display_data"
    }
   ],
   "source": [
    "plt.figure(figsize=(12, 8))\n",
    "\n",
    "plt.plot(history['train']['accuracy'])\n",
    "plt.plot(history['val']['accuracy'])\n",
    "plt.title('model accuracy')\n",
    "plt.ylabel('accuracy')\n",
    "plt.xlabel('epoch')\n",
    "plt.xticks(np.arange(len(history['train']['accuracy'])), np.arange(1, len(history['train']['accuracy']) + 1))\n",
    "plt.legend(['train', 'val'], loc='lower right')\n",
    "\n",
    "plt.show()"
   ]
  },
  {
   "cell_type": "markdown",
   "metadata": {},
   "source": [
    "### Predict"
   ]
  },
  {
   "cell_type": "code",
   "execution_count": 44,
   "metadata": {},
   "outputs": [],
   "source": [
    "def predict(words, mode='stress'):\n",
    "    tokens = pad_sequence(tokenizer.transform(words))\n",
    "    sequences = torch.tensor(tokens, dtype=torch.long).cuda()\n",
    "    preds = model(sequences)\n",
    "    indeces = torch.argmax(preds, axis=1)\n",
    "    if mode == 'stress':\n",
    "        return [word[:index+1] + chr(769) + word[index+1:] for word, index in zip(words, indeces)]\n",
    "    elif mode == 'asterisk':\n",
    "        return [word[:index+1] + \"*\" + word[index+1:] for word, index in zip(words, indeces)]\n",
    "    else:\n",
    "        raise ValueError(f\"Wrong `mode`={mode}\")"
   ]
  },
  {
   "cell_type": "code",
   "execution_count": 45,
   "metadata": {},
   "outputs": [],
   "source": [
    "words = [\"словотворення\", \"архаїчний\"]"
   ]
  },
  {
   "cell_type": "code",
   "execution_count": 46,
   "metadata": {},
   "outputs": [
    {
     "data": {
      "text/plain": [
       "['словотво́рення', 'архаї́чний']"
      ]
     },
     "execution_count": 46,
     "metadata": {},
     "output_type": "execute_result"
    }
   ],
   "source": [
    "predict(words)"
   ]
  },
  {
   "cell_type": "code",
   "execution_count": 47,
   "metadata": {},
   "outputs": [],
   "source": [
    "torch.save(model.state_dict(),\"accentor.pt\")"
   ]
  },
  {
   "cell_type": "code",
   "execution_count": null,
   "metadata": {},
   "outputs": [],
   "source": []
  },
  {
   "cell_type": "code",
   "execution_count": null,
   "metadata": {},
   "outputs": [],
   "source": []
  },
  {
   "cell_type": "code",
   "execution_count": null,
   "metadata": {},
   "outputs": [],
   "source": []
  },
  {
   "cell_type": "code",
   "execution_count": null,
   "metadata": {},
   "outputs": [],
   "source": []
  }
 ],
 "metadata": {
  "kernelspec": {
   "display_name": "Python 3.8.10 64-bit",
   "language": "python",
   "name": "python3"
  },
  "language_info": {
   "codemirror_mode": {
    "name": "ipython",
    "version": 3
   },
   "file_extension": ".py",
   "mimetype": "text/x-python",
   "name": "python",
   "nbconvert_exporter": "python",
   "pygments_lexer": "ipython3",
   "version": "3.8.10"
  },
  "vscode": {
   "interpreter": {
    "hash": "767d51c1340bd893661ea55ea3124f6de3c7a262a8b4abca0554b478b1e2ff90"
   }
  }
 },
 "nbformat": 4,
 "nbformat_minor": 4
}
